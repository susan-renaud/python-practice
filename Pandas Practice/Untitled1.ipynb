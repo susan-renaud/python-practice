{
 "cells": [
  {
   "cell_type": "code",
   "execution_count": 1,
   "metadata": {},
   "outputs": [],
   "source": [
    "import pandas as pd"
   ]
  },
  {
   "cell_type": "code",
   "execution_count": 2,
   "metadata": {},
   "outputs": [],
   "source": [
    "df_xlsx = pd.read_excel('Humanyze_task.xlsx')"
   ]
  },
  {
   "cell_type": "code",
   "execution_count": 3,
   "metadata": {},
   "outputs": [
    {
     "name": "stdout",
     "output_type": "stream",
     "text": [
      "    UserID       Team    Location Manager?\n",
      "0   174133   Business      Boston        Y\n",
      "1   174134   Business      Boston        Y\n",
      "2   174138   Business      Boston      NaN\n",
      "3   174733    Tech DC      Boston      NaN\n",
      "4   174734    Tech DC      Boston      NaN\n",
      "5   174738    Tech DC      Boston      NaN\n",
      "6   182838    Tech DC      Boston      NaN\n",
      "7   227533    Tech DC      Boston        Y\n",
      "8   227534    Tech DC      Boston      NaN\n",
      "9   227538    Tech DC      Boston      NaN\n",
      "10  234033  Tech HYPE      Boston      NaN\n",
      "11  234034  Tech HYPE      Boston      NaN\n",
      "12  234038  Tech HYPE      Boston      NaN\n",
      "13  260334    Tech DC      Boston        Y\n",
      "14  260338    Tech DC      Boston      NaN\n",
      "15  260833   Business      Boston      NaN\n",
      "16  260838   Business      Boston      NaN\n",
      "17  273033   Business  Menlo Park        Y\n",
      "18  273034   Business  Menlo Park      NaN\n",
      "19  273038   Business  Menlo Park      NaN\n",
      "20  281038  Analytics  Menlo Park        Y\n",
      "21  286433  Analytics  Menlo Park      NaN\n",
      "22  286434  Analytics  Menlo Park      NaN\n",
      "23  286438  Analytics  Menlo Park      NaN\n",
      "24  292633  Analytics  Menlo Park      NaN\n",
      "25  292634  Analytics  Menlo Park      NaN\n",
      "26  292638  Analytics  Menlo Park        Y\n",
      "27  296638   Business  Menlo Park      NaN\n",
      "28  298033  Tech HYPE      Boston        Y\n",
      "29  298034  Tech HYPE      Boston        Y\n",
      "30  298038  Tech HYPE      Boston      NaN\n",
      "31  323233  Tech HYPE      Boston      NaN\n",
      "32  323234  Tech HYPE      Boston      NaN\n",
      "33  323238  Tech HYPE      Boston      NaN\n",
      "34   53534   Business      Boston      NaN\n",
      "35   94933  Analytics  Menlo Park        Y\n",
      "36   94934  Analytics  Menlo Park      NaN\n",
      "37   94938  Analytics  Menlo Park      NaN\n"
     ]
    }
   ],
   "source": [
    "print(df_xlsx)"
   ]
  },
  {
   "cell_type": "code",
   "execution_count": 4,
   "metadata": {},
   "outputs": [
    {
     "ename": "NameError",
     "evalue": "name 'df' is not defined",
     "output_type": "error",
     "traceback": [
      "\u001b[0;31m---------------------------------------------------------------------------\u001b[0m",
      "\u001b[0;31mNameError\u001b[0m                                 Traceback (most recent call last)",
      "\u001b[0;32m<ipython-input-4-836580d537b0>\u001b[0m in \u001b[0;36m<module>\u001b[0;34m\u001b[0m\n\u001b[0;32m----> 1\u001b[0;31m \u001b[0mprint\u001b[0m\u001b[0;34m(\u001b[0m\u001b[0mdf\u001b[0m\u001b[0;34m.\u001b[0m\u001b[0mcolumns\u001b[0m\u001b[0;34m)\u001b[0m\u001b[0;34m\u001b[0m\u001b[0;34m\u001b[0m\u001b[0m\n\u001b[0m",
      "\u001b[0;31mNameError\u001b[0m: name 'df' is not defined"
     ]
    }
   ],
   "source": [
    "print(df.columns)"
   ]
  },
  {
   "cell_type": "code",
   "execution_count": 5,
   "metadata": {},
   "outputs": [
    {
     "name": "stdout",
     "output_type": "stream",
     "text": [
      "Index(['UserID', 'Team', 'Location', 'Manager?'], dtype='object')\n"
     ]
    }
   ],
   "source": [
    "print(df_xlsx.columns)"
   ]
  },
  {
   "cell_type": "code",
   "execution_count": 6,
   "metadata": {},
   "outputs": [
    {
     "ename": "SyntaxError",
     "evalue": "invalid syntax (<ipython-input-6-f27171762142>, line 1)",
     "output_type": "error",
     "traceback": [
      "\u001b[0;36m  File \u001b[0;32m\"<ipython-input-6-f27171762142>\"\u001b[0;36m, line \u001b[0;32m1\u001b[0m\n\u001b[0;31m    print(df_xlsx.'UserID')\u001b[0m\n\u001b[0m                         ^\u001b[0m\n\u001b[0;31mSyntaxError\u001b[0m\u001b[0;31m:\u001b[0m invalid syntax\n"
     ]
    }
   ],
   "source": [
    "print(df_xlsx.'UserID')"
   ]
  },
  {
   "cell_type": "code",
   "execution_count": 7,
   "metadata": {},
   "outputs": [
    {
     "name": "stdout",
     "output_type": "stream",
     "text": [
      "0     174133\n",
      "1     174134\n",
      "2     174138\n",
      "3     174733\n",
      "4     174734\n",
      "5     174738\n",
      "6     182838\n",
      "7     227533\n",
      "8     227534\n",
      "9     227538\n",
      "10    234033\n",
      "11    234034\n",
      "12    234038\n",
      "13    260334\n",
      "14    260338\n",
      "15    260833\n",
      "16    260838\n",
      "17    273033\n",
      "18    273034\n",
      "19    273038\n",
      "20    281038\n",
      "21    286433\n",
      "22    286434\n",
      "23    286438\n",
      "24    292633\n",
      "25    292634\n",
      "26    292638\n",
      "27    296638\n",
      "28    298033\n",
      "29    298034\n",
      "30    298038\n",
      "31    323233\n",
      "32    323234\n",
      "33    323238\n",
      "34     53534\n",
      "35     94933\n",
      "36     94934\n",
      "37     94938\n",
      "Name: UserID, dtype: int64\n"
     ]
    }
   ],
   "source": [
    "print(df_xlsx['UserID'])"
   ]
  },
  {
   "cell_type": "code",
   "execution_count": 8,
   "metadata": {},
   "outputs": [],
   "source": [
    "import numpy as np, pandas as pd, matplotlib.pyplot as plt\n"
   ]
  },
  {
   "cell_type": "code",
   "execution_count": null,
   "metadata": {},
   "outputs": [],
   "source": []
  }
 ],
 "metadata": {
  "kernelspec": {
   "display_name": "Python 3",
   "language": "python",
   "name": "python3"
  },
  "language_info": {
   "codemirror_mode": {
    "name": "ipython",
    "version": 3
   },
   "file_extension": ".py",
   "mimetype": "text/x-python",
   "name": "python",
   "nbconvert_exporter": "python",
   "pygments_lexer": "ipython3",
   "version": "3.7.4"
  }
 },
 "nbformat": 4,
 "nbformat_minor": 2
}
